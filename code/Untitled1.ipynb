{
 "cells": [
  {
   "cell_type": "code",
   "execution_count": 1,
   "id": "479c6cad-0882-4dae-b159-9b24ac7dfaae",
   "metadata": {},
   "outputs": [
    {
     "name": "stdout",
     "output_type": "stream",
     "text": [
      "Enter edges of the graph in the format 'node1 node2'. Type 'done' when finished.\n"
     ]
    },
    {
     "name": "stdin",
     "output_type": "stream",
     "text": [
      "Enter an edge (node1 node2):  a b \n",
      "Enter an edge (node1 node2):  a c\n",
      "Enter an edge (node1 node2):  b d\n",
      "Enter an edge (node1 node2):  b e\n",
      "Enter an edge (node1 node2):  c f\n",
      "Enter an edge (node1 node2):  done\n"
     ]
    },
    {
     "name": "stdout",
     "output_type": "stream",
     "text": [
      "Graph Representation: {'a': ['b', 'c'], 'b': ['a', 'd', 'e'], 'c': ['a', 'f'], 'd': ['b'], 'e': ['b'], 'f': ['c']}\n"
     ]
    },
    {
     "name": "stdin",
     "output_type": "stream",
     "text": [
      "Enter the starting node for BFS:  a\n"
     ]
    },
    {
     "name": "stdout",
     "output_type": "stream",
     "text": [
      "BFS Traversal:\n",
      "a b c d e f "
     ]
    }
   ],
   "source": [
    "#########################    EXP3      #####################\n",
    "''' Implement Breadth First Search Algorithm. Read the undirected\n",
    "unweighted graph from user. \n",
    "'''\n",
    "\n",
    "from collections import deque  # ✅ Import deque\n",
    "\n",
    "# Function to read the graph from user input\n",
    "def read_graph_from_user():\n",
    "    graph = {}\n",
    "    print(\"Enter edges of the graph in the format 'node1 node2'. Type 'done' when finished.\")\n",
    "    while True:\n",
    "        edge = input(\"Enter an edge (node1 node2): \")\n",
    "        if edge.lower() == 'done':\n",
    "            break\n",
    "        node1, node2 = edge.split()\n",
    "\n",
    "        # Add nodes to the graph\n",
    "        if node1 not in graph:\n",
    "            graph[node1] = []\n",
    "        if node2 not in graph:\n",
    "            graph[node2] = []\n",
    "\n",
    "        graph[node1].append(node2)\n",
    "        graph[node2].append(node1)  # Undirected graph: add both directions\n",
    "\n",
    "    return graph\n",
    "\n",
    "# Breadth First Search function using queue\n",
    "def bfs(graph, start_node):\n",
    "    visited = set()  # To track visited nodes\n",
    "    queue = deque([start_node])  # ✅ Initialize deque with the start node\n",
    "\n",
    "    while queue:\n",
    "        node = queue.popleft()  # ✅ Dequeue the front node efficiently\n",
    "\n",
    "        if node not in visited:\n",
    "            print(node, end=\" \")  # Print the node as we visit it\n",
    "            visited.add(node)  # Mark the node as visited\n",
    "\n",
    "            # Add all unvisited neighbors to the queue\n",
    "            for neighbor in graph[node]:\n",
    "                if neighbor not in visited:\n",
    "                    queue.append(neighbor)\n",
    "\n",
    "# Main Execution\n",
    "if __name__ == \"__main__\":\n",
    "    # Read the graph from the user\n",
    "    graph = read_graph_from_user()\n",
    "\n",
    "    print(\"Graph Representation:\", graph)\n",
    "\n",
    "    # Ask for the starting node from the user\n",
    "    start_node = input(\"Enter the starting node for BFS: \")\n",
    "\n",
    "    # Perform BFS traversal\n",
    "    print(\"BFS Traversal:\")\n",
    "    bfs(graph, start_node)\n"
   ]
  }
 ],
 "metadata": {
  "kernelspec": {
   "display_name": "Python 3 (ipykernel)",
   "language": "python",
   "name": "python3"
  },
  "language_info": {
   "codemirror_mode": {
    "name": "ipython",
    "version": 3
   },
   "file_extension": ".py",
   "mimetype": "text/x-python",
   "name": "python",
   "nbconvert_exporter": "python",
   "pygments_lexer": "ipython3",
   "version": "3.12.7"
  }
 },
 "nbformat": 4,
 "nbformat_minor": 5
}
